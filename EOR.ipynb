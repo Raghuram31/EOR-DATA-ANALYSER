{
 "cells": [
  {
   "cell_type": "markdown",
   "id": "9e3aa8d5",
   "metadata": {},
   "source": [
    "# EOR DATA ANALYSER"
   ]
  },
  {
   "cell_type": "markdown",
   "id": "7c8943df",
   "metadata": {},
   "source": [
    "Parameters to be entered: Nca0, Soi, uw, sigma1, Viscw, Swir\n",
    "\n",
    "###############UNITS#####################\n",
    "\n",
    "Nca0= Capillary number at start of EOR\n",
    "\n",
    "Soi= Residual oil saturation at the start of EOR\n",
    "\n",
    "uw=  Superficial  velocity of water\n",
    "\n",
    "sigma1= IFT after EOR \n",
    "\n",
    "viscw= Viscosity of water (displacing fluid)\n",
    "\n",
    "swir= Irreducible water saturation\n"
   ]
  },
  {
   "cell_type": "code",
   "execution_count": 2,
   "id": "0ab56919",
   "metadata": {
    "scrolled": true
   },
   "outputs": [
    {
     "name": "stdout",
     "output_type": "stream",
     "text": [
      "Enter the number of reservoirs' data available:\n",
      "4\n",
      "Enter the Nca0 values in order:\n",
      "\n",
      "0.000001 0.000001 0.000001 0.000001\n",
      "Enter the Soi values in order:\n",
      "\n",
      "0.5 0.5 0.5 0.5\n",
      "Enter the uw values in order:\n",
      "\n",
      "0.000006 0.00006 0.00006 0.000006\n",
      "Enter the sigma1 values in order:\n",
      "\n",
      "0.0005 0.0006 0.0005 0.0006\n",
      "Enter the viscw values in order:\n",
      "\n",
      "0.001 0.001 0.001 0.001\n",
      "Enter the swir values in order:\n",
      "\n",
      "0.2 0.2 0.2 0.2\n",
      "[[1e-06, 1e-06, 1e-06, 1e-06], [0.5, 0.5, 0.5, 0.5], [6e-06, 6e-05, 6e-05, 6e-06], [0.0005, 0.0006, 0.0005, 0.0006], [0.001, 0.001, 0.001, 0.001], [0.2, 0.2, 0.2, 0.2]]\n"
     ]
    }
   ],
   "source": [
    "import matplotlib.pyplot as plt \n",
    "import numpy as np\n",
    "import pandas as pd\n",
    "from math import *\n",
    "\n",
    "\n",
    "\n",
    "print(\"Enter the number of reservoirs' data available:\")\n",
    "n=int(input())\n",
    "\n",
    "print(\"Enter the Nca0 values in order:\\n\")\n",
    "Nca0=[float(i) for i in input().split()]\n",
    "print(\"Enter the Soi values in order:\\n\")\n",
    "Soi=[float(i) for i in input().split()]\n",
    "print(\"Enter the uw values in order:\\n\")\n",
    "uw=[float(i) for i in input().split()]\n",
    "print(\"Enter the sigma1 values in order:\\n\")\n",
    "sigma1=[float(i) for i in input().split()]\n",
    "print(\"Enter the viscw values in order:\\n\")\n",
    "viscw=[float(i) for i in input().split()]\n",
    "print(\"Enter the swir values in order:\\n\")\n",
    "swir=[float(i) for i in input().split()]\n",
    "\n",
    "\n",
    "data=[Nca0, Soi, uw, sigma1, viscw, swir]\n",
    "\n",
    "print(data)"
   ]
  },
  {
   "cell_type": "markdown",
   "id": "f096c83d",
   "metadata": {},
   "source": [
    "## Defining functions for calculating EOR screening parameters\n",
    "\n",
    "Sor=  Residual oil saturation after EOR application\n",
    "\n",
    "Nca0= #Capillary number at start of EOR\n",
    "\n",
    "Nca1=  #Capillary number after EOR end\n",
    "\n",
    "Soi=   #Residual oil saturation at the start of EOR\n",
    "\n",
    "uw=    #Superficial  velocity of water\n",
    "\n",
    "sigma1=   #IFT after EOR \n",
    "\n",
    "Swir=    #Irreducible water saturation\n",
    "\n",
    "Krw =    (1-Sw*)^2 * (1-(Sw*)^((2+t)/t))\n",
    "\n",
    "Kro =    (Sw*)^((2+3t)/t)\n",
    "\n",
    "Sor= [-tanh(v1*Nca1-v3)+1+v2]*Soi/[-tanh((v1*Nca0-v3)+1+v2)]\n",
    "\n",
    "#fw = 1/(1+((Kro*Muw)/(Muo*Krw)))\n",
    "\n",
    "#Sw1 = (Sw-Swir)/(1-Sor-Swir)\n",
    "\n",
    "\n",
    "#t=3.7\n",
    "#v1=6500, v2= 0.1, v3=0"
   ]
  },
  {
   "cell_type": "code",
   "execution_count": 3,
   "id": "32e4328a",
   "metadata": {},
   "outputs": [
    {
     "name": "stdout",
     "output_type": "stream",
     "text": [
      "[[1e-06, 1e-06, 1e-06, 1e-06], [0.5, 0.5, 0.5, 0.5], [6e-06, 6e-05, 6e-05, 6e-06], [0.0005, 0.0006, 0.0005, 0.0006], [0.001, 0.001, 0.001, 0.001], [0.2, 0.2, 0.2, 0.2]]\n"
     ]
    }
   ],
   "source": [
    "print(data)\n",
    "def Nca1cal(a,b,c): #a=uw, b=viscw, c=sigma1 \n",
    "    Nca1=(a*b)/c\n",
    "    return Nca1\n",
    "    \n",
    "def Sorcal(a,b,c): #a=Nca1, b=Nca0, c=Soi\n",
    "    Sor= c*(1.1-tanh(6500*a))/(1.1-tanh((6500*b))) \n",
    "    return Sor\n",
    "\n",
    "def Edcal(a,b):  #a=Soi, b=Sor\n",
    "    Ed=(a-b)/a\n",
    "    return Ed\n",
    "\n",
    "def Sw1cal(a,b,c):\n",
    "    Sw1=(a-b)/(1-c-b)  #a=Sw, b=Swir, C=Sor\n",
    "    return Sw1\n",
    "    \n",
    "def Krwcal(a):   #a=Sw\n",
    "    krw=a**(3.540541)\n",
    "    return krw    \n",
    "\n",
    "def Krocal(a): #a=Sw1\n",
    "    Kro=((1-a)**2)*(1-(a)**1.540541)\n",
    "    \n",
    "def fwcal(a,b,c,d):    #a=kr0, b=viscw, c=visco, d=krw\n",
    "    fw= 1/(1+(a*b/(c*d)))\n",
    "    return fw"
   ]
  },
  {
   "cell_type": "code",
   "execution_count": 5,
   "id": "4edf57c8",
   "metadata": {
    "scrolled": false
   },
   "outputs": [
    {
     "name": "stdout",
     "output_type": "stream",
     "text": [
      "6\n",
      "[1.2e-05, 0.00010000000000000002, 0.00012000000000000002, 1e-05]\n",
      "[0.4673789274902714, 0.24157749871367923, 0.20452366556642362, 0.4732927757543704]\n",
      "[0.06524214501945724, 0.5168450025726415, 0.5909526688671527, 0.0534144484912592]\n"
     ]
    }
   ],
   "source": [
    "#data[0]=Nca0; [1]=Soi; [2]= uw; [3]= sigma1; [4]=viscw; [5]=swir\n",
    "\n",
    "Nca1=[]\n",
    "\n",
    "print(len(data))\n",
    "for i in range(len(Nca0)):\n",
    "        Nca1.append(Nca1cal(data[2][i],data[4][i],data[3][i]))   #a=uw, b=viscw, c=sigma1\n",
    "print(Nca1) \n",
    "\n",
    "Sor=[]\n",
    "for i in range(len(Nca0)):\n",
    "        Sor.append(Sorcal(Nca1[i],data[0][i],data[1][i]))       #a=Nca1 #b=Nca0 #c=Soi\n",
    "print(Sor)\n",
    "\n",
    "Ed=[]\n",
    "for i in range(len(Nca0)):\n",
    "        Ed.append(Edcal(data[1][i],Sor[i]))\n",
    "print(Ed)"
   ]
  },
  {
   "cell_type": "code",
   "execution_count": 6,
   "id": "d4db9c04",
   "metadata": {},
   "outputs": [
    {
     "name": "stdout",
     "output_type": "stream",
     "text": [
      "3\n",
      "Above numbered reservoir acheived the maximum Ed of 0.590953\n",
      "\n",
      "4\n",
      "Above numbered reservoir acheived the minimum Ed of 0.053414\n",
      "\n",
      "3\n",
      "Above numbered reservoir shows the minimum Sor of 0.204524 indicating max recovery\n",
      "\n",
      "4\n",
      "Above numbered reservoir shows the maximum Sor of 0.473293 indicating min recovery\n",
      "\n",
      "3\n",
      "Above numbered reservoir shows the Maximum improvement in capillary no of 0.000119\n",
      "4\n",
      "Above numbered reservoir shows the Minimum improvement in capillary no of 0.000009\n"
     ]
    }
   ],
   "source": [
    "\n",
    "MaxEd=Ed.index(max(Ed))\n",
    "print(MaxEd+1)\n",
    "print(\"Above numbered reservoir acheived the maximum Ed of %f\\n\"%(max(Ed)))\n",
    "\n",
    "MinEd=Ed.index(min(Ed))\n",
    "print(MinEd+1)\n",
    "print(\"Above numbered reservoir acheived the minimum Ed of %f\\n\"%(min(Ed)))\n",
    "\n",
    "MinSor=Sor.index(min(Sor))\n",
    "print(MinSor+1)\n",
    "print(\"Above numbered reservoir shows the minimum Sor of %f indicating max recovery\\n\"%(min(Sor)))\n",
    "\n",
    "MaxSor=Sor.index(max(Sor))\n",
    "print(MaxSor+1)\n",
    "print(\"Above numbered reservoir shows the maximum Sor of %f indicating min recovery\\n\"%(max(Sor)))\n",
    "\n",
    "\n",
    "\n",
    "ChangeNca=[]\n",
    "for i in range(len(Nca0)):\n",
    "    ChangeNca.append(Nca1[i]-Nca0[i])\n",
    " \n",
    "\n",
    "\n",
    "MaxNcaChange=ChangeNca.index(max(ChangeNca))\n",
    "print(MaxNcaChange+1)\n",
    "print(\"Above numbered reservoir shows the Maximum improvement in capillary no of %f\"%(max(ChangeNca)))\n",
    "\n",
    "\n",
    "MinNcaChange=ChangeNca.index(min(ChangeNca))\n",
    "print(MinNcaChange+1)\n",
    "print(\"Above numbered reservoir shows the Minimum improvement in capillary no of %f\"%(min(ChangeNca)))"
   ]
  },
  {
   "cell_type": "code",
   "execution_count": null,
   "id": "e999ed33",
   "metadata": {},
   "outputs": [],
   "source": [
    "#Plotting Fractional flow curves for Reservoirs with Max and min oil recovery.\n",
    "\n"
   ]
  }
 ],
 "metadata": {
  "kernelspec": {
   "display_name": "Python 3 (ipykernel)",
   "language": "python",
   "name": "python3"
  },
  "language_info": {
   "codemirror_mode": {
    "name": "ipython",
    "version": 3
   },
   "file_extension": ".py",
   "mimetype": "text/x-python",
   "name": "python",
   "nbconvert_exporter": "python",
   "pygments_lexer": "ipython3",
   "version": "3.9.12"
  }
 },
 "nbformat": 4,
 "nbformat_minor": 5
}
